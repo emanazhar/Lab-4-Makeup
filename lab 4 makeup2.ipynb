{
 "cells": [
  {
   "cell_type": "code",
   "execution_count": 2,
   "metadata": {
    "collapsed": false
   },
   "outputs": [
    {
     "name": "stdout",
     "output_type": "stream",
     "text": [
      "Enter any String:5 8 7\n",
      "Answer:  7 8 5\n"
     ]
    }
   ],
   "source": [
    "task5 = input(\"Enter any String:\")\n",
    "def rreverse(task5):\n",
    "    if task5 == \"\":\n",
    "        return \"\"\n",
    "    else:\n",
    "        return rreverse(task5[1:])+task5[0]\n",
    "print(\"Answer: \",rreverse(task5))\n"
   ]
  },
  {
   "cell_type": "code",
   "execution_count": null,
   "metadata": {
    "collapsed": true
   },
   "outputs": [],
   "source": []
  }
 ],
 "metadata": {
  "anaconda-cloud": {},
  "kernelspec": {
   "display_name": "Python [Root]",
   "language": "python",
   "name": "Python [Root]"
  },
  "language_info": {
   "codemirror_mode": {
    "name": "ipython",
    "version": 3
   },
   "file_extension": ".py",
   "mimetype": "text/x-python",
   "name": "python",
   "nbconvert_exporter": "python",
   "pygments_lexer": "ipython3",
   "version": "3.5.2"
  }
 },
 "nbformat": 4,
 "nbformat_minor": 0
}
